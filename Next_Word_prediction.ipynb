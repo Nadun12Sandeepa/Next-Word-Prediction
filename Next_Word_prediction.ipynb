{
  "nbformat": 4,
  "nbformat_minor": 0,
  "metadata": {
    "colab": {
      "provenance": [],
      "authorship_tag": "ABX9TyM8FEJRaOc2NF9evusRL9mb",
      "include_colab_link": true
    },
    "kernelspec": {
      "name": "python3",
      "display_name": "Python 3"
    },
    "language_info": {
      "name": "python"
    }
  },
  "cells": [
    {
      "cell_type": "markdown",
      "metadata": {
        "id": "view-in-github",
        "colab_type": "text"
      },
      "source": [
        "<a href=\"https://colab.research.google.com/github/Nadun12Sandeepa/Next-Word-Prediction/blob/main/Next_Word_prediction.ipynb\" target=\"_parent\"><img src=\"https://colab.research.google.com/assets/colab-badge.svg\" alt=\"Open In Colab\"/></a>"
      ]
    },
    {
      "cell_type": "code",
      "execution_count": 1,
      "metadata": {
        "id": "v0j6O2lGBHl4"
      },
      "outputs": [],
      "source": [
        "import numpy as np\n",
        "import tensorflow as tf\n"
      ]
    },
    {
      "cell_type": "code",
      "source": [
        "with open(\"/content/cricket.txt.txt\", 'r', encoding='utf-8') as file:\n",
        "    cricket_history = file.read()"
      ],
      "metadata": {
        "id": "nPJ6SKjoBXna"
      },
      "execution_count": 2,
      "outputs": []
    },
    {
      "cell_type": "code",
      "source": [
        "\n",
        "cricket_history[:500]"
      ],
      "metadata": {
        "colab": {
          "base_uri": "https://localhost:8080/",
          "height": 87
        },
        "id": "l0VGEzTGBmv7",
        "outputId": "2453b4c7-329a-4e4c-8ee2-b4a39c68b40b"
      },
      "execution_count": 3,
      "outputs": [
        {
          "output_type": "execute_result",
          "data": {
            "text/plain": [
              "'Cricket history is particularly murky and vague as to the exact origins of the game, it is believed to have been born in England in the late middle ages.Add commentMore actions\\n\\nEdward III banned a game similar to cricket in 1369, ‘pila baculorea’ or ‘club ball’ as it was known, as he saw it as being a distraction to his war effort.\\n\\nDerek Birley in his wonderful book, ‘A Social History of English Cricket’ suggests the game came to England with the French during the time of the Norman Invasion, '"
            ],
            "application/vnd.google.colaboratory.intrinsic+json": {
              "type": "string"
            }
          },
          "metadata": {},
          "execution_count": 3
        }
      ]
    },
    {
      "cell_type": "code",
      "source": [
        "tokenizer = tf.keras.preprocessing.text.Tokenizer()\n",
        "tokenizer.fit_on_texts([cricket_history])\n"
      ],
      "metadata": {
        "id": "A-PpSNKuDAJi"
      },
      "execution_count": 4,
      "outputs": []
    },
    {
      "cell_type": "code",
      "source": [
        "tokenizer.get_config()['filters']"
      ],
      "metadata": {
        "colab": {
          "base_uri": "https://localhost:8080/",
          "height": 35
        },
        "id": "nsvSQEOKDC4J",
        "outputId": "f15ce73c-51ca-4bbb-b585-e2ad7846b7d5"
      },
      "execution_count": 5,
      "outputs": [
        {
          "output_type": "execute_result",
          "data": {
            "text/plain": [
              "'!\"#$%&()*+,-./:;<=>?@[\\\\]^_`{|}~\\t\\n'"
            ],
            "application/vnd.google.colaboratory.intrinsic+json": {
              "type": "string"
            }
          },
          "metadata": {},
          "execution_count": 5
        }
      ]
    },
    {
      "cell_type": "code",
      "source": [
        "tokenizer.get_config()['word_counts']"
      ],
      "metadata": {
        "colab": {
          "base_uri": "https://localhost:8080/",
          "height": 139
        },
        "id": "8Ncis7JSDGFW",
        "outputId": "fad7d996-403c-4ad0-c25d-86f9797a7562"
      },
      "execution_count": 6,
      "outputs": [
        {
          "output_type": "execute_result",
          "data": {
            "text/plain": [
              "'{\"cricket\": 35, \"history\": 2, \"is\": 8, \"particularly\": 2, \"murky\": 1, \"and\": 47, \"vague\": 1, \"as\": 25, \"to\": 45, \"the\": 148, \"exact\": 1, \"origins\": 1, \"of\": 48, \"game\": 22, \"it\": 22, \"believed\": 1, \"have\": 4, \"been\": 4, \"born\": 2, \"in\": 57, \"england\": 15, \"late\": 1, \"middle\": 1, \"ages\": 1, \"add\": 1, \"commentmore\": 1, \"actions\": 1, \"edward\": 3, \"iii\": 2, \"banned\": 1, \"a\": 22, \"similar\": 2, \"1369\": 1, \"\\\\u2018pila\": 1, \"baculorea\\\\u2019\": 1, \"or\": 5, \"\\\\u2018club\": 1, \"ball\\\\u2019\": 1, \"was\": 15, \"known\": 1, \"he\": 1, \"saw\": 7, \"being\": 8, \"distraction\": 1, \"his\": 2, \"war\": 1, \"effort\": 1, \"derek\": 1, \"birley\": 1, \"wonderful\": 1, \"book\": 1, \"\\\\u2018a\": 1, \"social\": 1, \"english\": 6, \"cricket\\\\u2019\": 3, \"suggests\": 1, \"came\": 1, \"with\": 16, \"french\": 1, \"during\": 2, \"time\": 5, \"norman\": 1, \"invasion\": 2, \"that\": 9, \"their\": 4, \"word\": 3, \"\\\\u2018criquet\\\\u2019\": 1, \"dialect\": 1, \"name\": 1, \"for\": 19, \"variation\": 1, \"club\": 4, \"ball\": 3, \"had\": 9, \"sought\": 2, \"eradicate\": 1, \"there\": 3, \"record\": 1, \"\\\\u2018creag\\\\u2019\": 2, \"derivative\": 1, \"creaget\": 1, \"1299\": 1, \"1300\": 1, \"royal\": 1, \"wardrobe\": 1, \"accounts\": 1, \"then\": 2, \"prince\": 1, \"ii\": 1, \"play\": 3, \"other\": 2, \"games\": 8, \"no\": 1, \"evidence\": 1, \"creag\": 1, \"same\": 1, \"criquet\": 1, \"links\": 1, \"are\": 1, \"too\": 1, \"tenuous\": 1, \"rarely\": 1, \"appear\": 1, \"any\": 1, \"records\": 1, \"this\": 5, \"unless\": 1, \"aristocracy\": 5, \"were\": 16, \"playing\": 6, \"them\": 4, \"trying\": 1, \"eradicated\": 1, \"morally\": 1, \"degenerate\": 1, \"first\": 6, \"recorded\": 5, \"played\": 11, \"by\": 11, \"schoolboys\": 1, \"guildford\": 1, \"sixteenth\": 1, \"century\": 5, \"found\": 2, \"an\": 6, \"italian\": 1, \"dictionary\": 1, \"1598\": 1, \"gambling\": 2, \"working\": 2, \"classes\": 4, \"1611\": 1, \"adults\": 1, \"two\": 5, \"men\": 3, \"prosecuted\": 1, \"instead\": 1, \"attending\": 2, \"church\": 2, \"on\": 5, \"theme\": 1, \"1628\": 1, \"ten\": 1, \"fined\": 1, \"rather\": 1, \"than\": 1, \"service\": 1, \"they\": 7, \"also\": 1, \"make\": 1, \"confession\": 1, \"congregation\": 1, \"way\": 3, \"penance\": 1, \"continued\": 2, \"evolve\": 1, \"amongst\": 1, \"became\": 2, \"central\": 1, \"its\": 13, \"growth\": 2, \"particular\": 1, \"seen\": 3, \"obvious\": 1, \"attributes\": 1, \"bet\": 1, \"outcomes\": 1, \"teams\": 4, \"assembled\": 2, \"under\": 2, \"patronage\": 1, \"aristocrats\": 1, \"purses\": 2, \"put\": 1, \"up\": 4, \"\\\\u2018great\": 2, \"matches\\\\u2019\": 2, \"1696\": 1, \"\\\\u2018\": 2, \"great\": 1, \"match\": 4, \"at\": 9, \"sussex\": 1, \"eleven\": 1, \"side\": 3, \"fifty\": 1, \"guineas\": 1, \"apiece\\\\u2019\": 1, \"growing\": 1, \"both\": 1, \"within\": 1, \"upper\": 1, \"genuine\": 1, \"recreational\": 1, \"past\": 1, \"rural\": 2, \"workers\": 2, \"southern\": 1, \"counties\": 1, \"composite\": 1, \"beginning\": 2, \"be\": 6, \"period\": 1, \"early\": 2, \"1700\\\\u2019s\": 2, \"crossing\": 1, \"class\": 2, \"divides\": 1, \"encouraged\": 1, \"nobility\": 1, \"patronizing\": 1, \"employ\": 2, \"best\": 3, \"players\": 4, \"could\": 1, \"thus\": 2, \"who\": 2, \"become\": 3, \"adept\": 1, \"employed\": 1, \"\\\\u2018hands\\\\u2019\": 1, \"travelling\": 1, \"london\": 2, \"north\": 2, \"can\": 1, \"lay\": 2, \"claim\": 2, \"cradle\": 1, \"matches\": 2, \"staged\": 3, \"islington\": 1, \"white\": 2, \"conduit\": 2, \"field\": 3, \"\\\\u2018field\": 1, \"keeper\\\\u2019\": 1, \"angel\": 1, \"inn\": 1, \"part\": 2, \"amenities\": 1, \"1718\": 1, \"brought\": 3, \"into\": 4, \"law\": 1, \"courts\": 1, \"after\": 5, \"dispute\": 1, \"between\": 6, \"area\": 2, \"\\\\u2018cradle\": 1, \"hambledon\": 2, \"hampshire\": 1, \"where\": 2, \"broad\": 1, \"down\": 1, \"halfpenny\": 1, \"began\": 4, \"assume\": 1, \"truly\": 1, \"skilful\": 1, \"scientific\": 1, \"character\": 1, \"which\": 1, \"now\": 3, \"possesses\": 1, \"\\\\u2019\": 1, \"immortalised\": 1, \"writing\": 1, \"john\": 1, \"nyren\": 1, \"captured\": 1, \"spirit\": 2, \"segregation\": 1, \"rich\": 1, \"varied\": 1, \"life\": 1, \"spread\": 4, \"through\": 1, \"provincial\": 1, \"towns\": 1, \"grew\": 1, \"industrialization\": 1, \"yorkshire\": 1, \"1750\\\\u2019s\": 1, \"laws\": 3, \"1744\": 1, \"codified\": 1, \"1788\": 2, \"revised\": 1, \"marylebone\": 1, \"covered\": 1, \"length\": 1, \"pitch\": 1, \"distance\": 1, \"creases\": 1, \"wicket\": 1, \"size\": 1, \"weight\": 1, \"1760\": 1, \"evolution\": 2, \"over\": 3, \"arm\": 2, \"bowling\": 5, \"replacing\": 1, \"main\": 1, \"deliver\": 1, \"see\": 2, \"use\": 2, \"various\": 1, \"lengths\": 1, \"utilised\": 1, \"bowlers\": 1, \"development\": 1, \"craft\": 1, \"batting\": 1, \"batters\": 1, \"respond\": 1, \"new\": 7, \"techniques\": 2, \"\\\\u2018straight\": 1, \"bat\\\\u2019\": 1, \"introduced\": 1, \"counter\": 1, \"old\": 1, \"bent\": 1, \"\\\\u2018hockey\": 1, \"stick\\\\u2019\": 1, \"style\": 1, \"bat\": 1, \"went\": 2, \"out\": 2, \"fashion\": 1, \"pictures\": 1, \"here\": 1, \"from\": 6, \"display\": 1, \"lords\": 1, \"museum\": 1, \"show\": 1, \"bats\": 1, \"global\": 1, \"britains\\\\u2019\": 1, \"imperialist\": 1, \"ambitions\": 1, \"navy\": 1, \"army\": 1, \"instrumental\": 1, \"colonies\": 1, \"america\": 1, \"1800\\\\u2019s\": 1, \"reached\": 2, \"west\": 2, \"indies\": 2, \"india\": 2, \"inception\": 1, \"colonization\": 1, \"australia\": 7, \"19th\": 1, \"south\": 4, \"africaand\": 1, \"zealand\": 2, \"international\": 4, \"york\": 1, \"1844\": 1, \"canada\": 1, \"united\": 1, \"states\": 1, \"1868\": 1, \"australian\": 2, \"aboriginal\": 1, \"toured\": 1, \"1877\": 1, \"against\": 2, \"begin\": 1, \"oldest\": 1, \"rivalry\": 1, \"1882\": 1, \"lost\": 1, \"mock\": 1, \"obituary\": 1, \"written\": 1, \"melbourne\": 1, \"ladies\": 1, \"burnt\": 1, \"bail\": 1, \"presented\": 1, \"captain\": 1, \"urn\": 2, \"ashes\": 1, \"longest\": 1, \"running\": 1, \"saga\": 1, \"sides\": 2, \"off\": 1, \"every\": 1, \"years\": 2, \"fabled\": 1, \"1889\": 1, \"africa\": 3, \"third\": 1, \"test\": 3, \"nation\": 1, \"1900\": 1, \"made\": 1, \"one\": 3, \"only\": 4, \"appearance\": 1, \"olympics\": 3, \"france\": 1, \"won\": 2, \"although\": 1, \"interestingly\": 1, \"looks\": 1, \"if\": 1, \"may\": 1, \"re\": 1, \"admitted\": 1, \"shortest\": 1, \"form\": 1, \"20\": 2, \"1909\": 1, \"imperial\": 1, \"conference\": 1, \"formed\": 1, \"administrate\": 1, \"primarily\": 1, \"perspective\": 1, \"founder\": 1, \"members\": 1, \"nations\": 3, \"before\": 1, \"second\": 3, \"ww\": 1, \"pakistan\": 1, \"joining\": 1, \"affiliate\": 1, \"like\": 1, \"sri\": 1, \"lanka\": 1, \"formerly\": 1, \"ceylon\": 1, \"zimababwe\": 1, \"bangladesh\": 1, \"toward\": 1, \"end\": 1, \"twentieth\": 2, \"crises\": 2, \"major\": 1, \"initially\": 1, \"bodyline\": 1, \"series\": 3, \"1932\": 1, \"33\": 1, \"englands\\\\u2019\": 1, \"method\": 1, \"countering\": 1, \"genius\": 1, \"don\": 1, \"bradman\": 1, \"lead\": 1, \"bowl\": 1, \"leg\": 1, \"short\": 1, \"pitched\": 1, \"australians\": 1, \"deemed\": 1, \"\\\\u2018not\": 1, \"event\": 2, \"such\": 1, \"proportions\": 1, \"threatened\": 1, \"take\": 1, \"political\": 1, \"action\": 1, \"so\": 1, \"disturbed\": 1, \"1970\\\\u2019s\": 3, \"d\\\\u2019oliveira\": 2, \"affair\": 1, \"blew\": 1, \"stage\": 1, \"twenty\": 5, \"refused\": 1, \"receive\": 1, \"team\": 1, \"cape\": 1, \"coloured\": 2, \"basil\": 1, \"racist\": 1, \"policies\": 1, \"cast\": 1, \"wilderness\": 1, \"return\": 1, \"release\": 1, \"nelson\": 1, \"mandela\": 1, \"institution\": 1, \"multi\": 1, \"racial\": 1, \"1960\\\\u2019s\": 1, \"70\\\\u2019s\": 1, \"introduction\": 1, \"single\": 1, \"innings\": 1, \"limited\": 1, \"these\": 1, \"proved\": 1, \"hugely\": 1, \"popular\": 1, \"day\": 2, \"1971\": 1, \"mid\": 1, \"media\": 1, \"mogul\": 1, \"kerry\": 1, \"packer\": 2, \"bought\": 1, \"worlds\": 3, \"cricketers\": 1, \"set\": 2, \"world\": 3, \"clothing\": 1, \"took\": 1, \"establishment\": 1, \"legal\": 1, \"battle\": 1, \"right\": 1, \"host\": 1, \"televise\": 1, \"long\": 1, \"professionalising\": 1, \"allowing\": 1, \"living\": 1, \"wage\": 1, \"profession\": 1, \"technology\": 6, \"innovation\": 1, \"developed\": 1, \"some\": 1, \"innovations\": 1, \"tennis\": 1, \"american\": 1, \"football\": 2, \"bring\": 1, \"better\": 1, \"decision\": 1, \"making\": 2, \"umpires\": 3, \"highlight\": 1, \"areas\": 1, \"interest\": 1, \"tv\": 1, \"audience\": 2, \"slow\": 1, \"motion\": 1, \"replays\": 1, \"specialist\": 1, \"camera\": 1, \"angles\": 1, \"has\": 2, \"space\": 1, \"age\": 1, \"\\\\u2018stump\": 1, \"cams\\\\u2019\": 1, \"\\\\u2019hot\": 1, \"spots\\\\u2019\": 1, \"\\\\u2018hawk\": 1, \"eye\\\\u2019\": 1, \"derived\": 1, \"modern\": 1, \"warfare\": 1, \"whether\": 2, \"improved\": 1, \"decison\": 1, \"remains\": 1, \"breakdowns\": 1, \"application\": 1, \"lack\": 1, \"uniform\": 1, \"roll\": 1, \"across\": 1, \"all\": 1, \"undermines\": 1, \"credibility\": 1, \"t20\": 1, \"rebirth\": 1, \"death\": 1, \"we\": 1, \"know\": 1, \"2000\\\\u2019s\": 1, \"literally\": 1, \"exploded\": 1, \"market\": 2, \"places\": 1, \"target\": 1, \"spectacularly\": 1, \"seized\": 1, \"upon\": 1, \"bcci\": 1, \"2007\": 1, \"cup\": 1, \"indian\": 1, \"premier\": 2, \"league\": 2, \"modelled\": 1, \"competition\": 1, \"biggest\": 2, \"sporting\": 1, \"because\": 1, \"india\\\\u2019s\": 1, \"vast\": 1, \"population\": 1, \"sub\": 1, \"continent\": 1, \"marketplace\": 1, \"how\": 1, \"grows\": 1, \"will\": 2, \"remain\": 1, \"consumes\": 1, \"itself\": 1, \"overkill\": 1, \"goes\": 1, \"21st\": 1, \"tell\": 1}'"
            ],
            "application/vnd.google.colaboratory.intrinsic+json": {
              "type": "string"
            }
          },
          "metadata": {},
          "execution_count": 6
        }
      ]
    },
    {
      "cell_type": "code",
      "source": [
        "tokenizer.word_index\n"
      ],
      "metadata": {
        "colab": {
          "base_uri": "https://localhost:8080/"
        },
        "id": "jhcP4p0ODKxG",
        "outputId": "8c63fe9a-b655-46b2-e3ab-338a839b5d16"
      },
      "execution_count": 7,
      "outputs": [
        {
          "output_type": "execute_result",
          "data": {
            "text/plain": [
              "{'the': 1,\n",
              " 'in': 2,\n",
              " 'of': 3,\n",
              " 'and': 4,\n",
              " 'to': 5,\n",
              " 'cricket': 6,\n",
              " 'as': 7,\n",
              " 'game': 8,\n",
              " 'it': 9,\n",
              " 'a': 10,\n",
              " 'for': 11,\n",
              " 'with': 12,\n",
              " 'were': 13,\n",
              " 'england': 14,\n",
              " 'was': 15,\n",
              " 'its': 16,\n",
              " 'played': 17,\n",
              " 'by': 18,\n",
              " 'that': 19,\n",
              " 'had': 20,\n",
              " 'at': 21,\n",
              " 'is': 22,\n",
              " 'being': 23,\n",
              " 'games': 24,\n",
              " 'saw': 25,\n",
              " 'they': 26,\n",
              " 'new': 27,\n",
              " 'australia': 28,\n",
              " 'english': 29,\n",
              " 'playing': 30,\n",
              " 'first': 31,\n",
              " 'an': 32,\n",
              " 'be': 33,\n",
              " 'between': 34,\n",
              " 'from': 35,\n",
              " 'technology': 36,\n",
              " 'or': 37,\n",
              " 'time': 38,\n",
              " 'this': 39,\n",
              " 'aristocracy': 40,\n",
              " 'recorded': 41,\n",
              " 'century': 42,\n",
              " 'two': 43,\n",
              " 'on': 44,\n",
              " 'after': 45,\n",
              " 'bowling': 46,\n",
              " 'twenty': 47,\n",
              " 'have': 48,\n",
              " 'been': 49,\n",
              " 'their': 50,\n",
              " 'club': 51,\n",
              " 'them': 52,\n",
              " 'classes': 53,\n",
              " 'teams': 54,\n",
              " 'up': 55,\n",
              " 'match': 56,\n",
              " 'players': 57,\n",
              " 'into': 58,\n",
              " 'began': 59,\n",
              " 'spread': 60,\n",
              " 'south': 61,\n",
              " 'international': 62,\n",
              " 'only': 63,\n",
              " 'edward': 64,\n",
              " 'cricket’': 65,\n",
              " 'word': 66,\n",
              " 'ball': 67,\n",
              " 'there': 68,\n",
              " 'play': 69,\n",
              " 'men': 70,\n",
              " 'way': 71,\n",
              " 'seen': 72,\n",
              " 'side': 73,\n",
              " 'best': 74,\n",
              " 'become': 75,\n",
              " 'staged': 76,\n",
              " 'field': 77,\n",
              " 'brought': 78,\n",
              " 'now': 79,\n",
              " 'laws': 80,\n",
              " 'over': 81,\n",
              " 'africa': 82,\n",
              " 'test': 83,\n",
              " 'one': 84,\n",
              " 'olympics': 85,\n",
              " 'nations': 86,\n",
              " 'second': 87,\n",
              " 'series': 88,\n",
              " '1970’s': 89,\n",
              " 'worlds': 90,\n",
              " 'world': 91,\n",
              " 'umpires': 92,\n",
              " 'history': 93,\n",
              " 'particularly': 94,\n",
              " 'born': 95,\n",
              " 'iii': 96,\n",
              " 'similar': 97,\n",
              " 'his': 98,\n",
              " 'during': 99,\n",
              " 'invasion': 100,\n",
              " 'sought': 101,\n",
              " '‘creag’': 102,\n",
              " 'then': 103,\n",
              " 'other': 104,\n",
              " 'found': 105,\n",
              " 'gambling': 106,\n",
              " 'working': 107,\n",
              " 'attending': 108,\n",
              " 'church': 109,\n",
              " 'continued': 110,\n",
              " 'became': 111,\n",
              " 'growth': 112,\n",
              " 'assembled': 113,\n",
              " 'under': 114,\n",
              " 'purses': 115,\n",
              " '‘great': 116,\n",
              " 'matches’': 117,\n",
              " '‘': 118,\n",
              " 'rural': 119,\n",
              " 'workers': 120,\n",
              " 'beginning': 121,\n",
              " 'early': 122,\n",
              " '1700’s': 123,\n",
              " 'class': 124,\n",
              " 'employ': 125,\n",
              " 'thus': 126,\n",
              " 'who': 127,\n",
              " 'london': 128,\n",
              " 'north': 129,\n",
              " 'lay': 130,\n",
              " 'claim': 131,\n",
              " 'matches': 132,\n",
              " 'white': 133,\n",
              " 'conduit': 134,\n",
              " 'part': 135,\n",
              " 'area': 136,\n",
              " 'hambledon': 137,\n",
              " 'where': 138,\n",
              " 'spirit': 139,\n",
              " '1788': 140,\n",
              " 'evolution': 141,\n",
              " 'arm': 142,\n",
              " 'see': 143,\n",
              " 'use': 144,\n",
              " 'techniques': 145,\n",
              " 'went': 146,\n",
              " 'out': 147,\n",
              " 'reached': 148,\n",
              " 'west': 149,\n",
              " 'indies': 150,\n",
              " 'india': 151,\n",
              " 'zealand': 152,\n",
              " 'australian': 153,\n",
              " 'against': 154,\n",
              " 'urn': 155,\n",
              " 'sides': 156,\n",
              " 'years': 157,\n",
              " 'won': 158,\n",
              " '20': 159,\n",
              " 'twentieth': 160,\n",
              " 'crises': 161,\n",
              " 'event': 162,\n",
              " 'd’oliveira': 163,\n",
              " 'coloured': 164,\n",
              " 'day': 165,\n",
              " 'packer': 166,\n",
              " 'set': 167,\n",
              " 'football': 168,\n",
              " 'making': 169,\n",
              " 'audience': 170,\n",
              " 'has': 171,\n",
              " 'whether': 172,\n",
              " 'market': 173,\n",
              " 'premier': 174,\n",
              " 'league': 175,\n",
              " 'biggest': 176,\n",
              " 'will': 177,\n",
              " 'murky': 178,\n",
              " 'vague': 179,\n",
              " 'exact': 180,\n",
              " 'origins': 181,\n",
              " 'believed': 182,\n",
              " 'late': 183,\n",
              " 'middle': 184,\n",
              " 'ages': 185,\n",
              " 'add': 186,\n",
              " 'commentmore': 187,\n",
              " 'actions': 188,\n",
              " 'banned': 189,\n",
              " '1369': 190,\n",
              " '‘pila': 191,\n",
              " 'baculorea’': 192,\n",
              " '‘club': 193,\n",
              " 'ball’': 194,\n",
              " 'known': 195,\n",
              " 'he': 196,\n",
              " 'distraction': 197,\n",
              " 'war': 198,\n",
              " 'effort': 199,\n",
              " 'derek': 200,\n",
              " 'birley': 201,\n",
              " 'wonderful': 202,\n",
              " 'book': 203,\n",
              " '‘a': 204,\n",
              " 'social': 205,\n",
              " 'suggests': 206,\n",
              " 'came': 207,\n",
              " 'french': 208,\n",
              " 'norman': 209,\n",
              " '‘criquet’': 210,\n",
              " 'dialect': 211,\n",
              " 'name': 212,\n",
              " 'variation': 213,\n",
              " 'eradicate': 214,\n",
              " 'record': 215,\n",
              " 'derivative': 216,\n",
              " 'creaget': 217,\n",
              " '1299': 218,\n",
              " '1300': 219,\n",
              " 'royal': 220,\n",
              " 'wardrobe': 221,\n",
              " 'accounts': 222,\n",
              " 'prince': 223,\n",
              " 'ii': 224,\n",
              " 'no': 225,\n",
              " 'evidence': 226,\n",
              " 'creag': 227,\n",
              " 'same': 228,\n",
              " 'criquet': 229,\n",
              " 'links': 230,\n",
              " 'are': 231,\n",
              " 'too': 232,\n",
              " 'tenuous': 233,\n",
              " 'rarely': 234,\n",
              " 'appear': 235,\n",
              " 'any': 236,\n",
              " 'records': 237,\n",
              " 'unless': 238,\n",
              " 'trying': 239,\n",
              " 'eradicated': 240,\n",
              " 'morally': 241,\n",
              " 'degenerate': 242,\n",
              " 'schoolboys': 243,\n",
              " 'guildford': 244,\n",
              " 'sixteenth': 245,\n",
              " 'italian': 246,\n",
              " 'dictionary': 247,\n",
              " '1598': 248,\n",
              " '1611': 249,\n",
              " 'adults': 250,\n",
              " 'prosecuted': 251,\n",
              " 'instead': 252,\n",
              " 'theme': 253,\n",
              " '1628': 254,\n",
              " 'ten': 255,\n",
              " 'fined': 256,\n",
              " 'rather': 257,\n",
              " 'than': 258,\n",
              " 'service': 259,\n",
              " 'also': 260,\n",
              " 'make': 261,\n",
              " 'confession': 262,\n",
              " 'congregation': 263,\n",
              " 'penance': 264,\n",
              " 'evolve': 265,\n",
              " 'amongst': 266,\n",
              " 'central': 267,\n",
              " 'particular': 268,\n",
              " 'obvious': 269,\n",
              " 'attributes': 270,\n",
              " 'bet': 271,\n",
              " 'outcomes': 272,\n",
              " 'patronage': 273,\n",
              " 'aristocrats': 274,\n",
              " 'put': 275,\n",
              " '1696': 276,\n",
              " 'great': 277,\n",
              " 'sussex': 278,\n",
              " 'eleven': 279,\n",
              " 'fifty': 280,\n",
              " 'guineas': 281,\n",
              " 'apiece’': 282,\n",
              " 'growing': 283,\n",
              " 'both': 284,\n",
              " 'within': 285,\n",
              " 'upper': 286,\n",
              " 'genuine': 287,\n",
              " 'recreational': 288,\n",
              " 'past': 289,\n",
              " 'southern': 290,\n",
              " 'counties': 291,\n",
              " 'composite': 292,\n",
              " 'period': 293,\n",
              " 'crossing': 294,\n",
              " 'divides': 295,\n",
              " 'encouraged': 296,\n",
              " 'nobility': 297,\n",
              " 'patronizing': 298,\n",
              " 'could': 299,\n",
              " 'adept': 300,\n",
              " 'employed': 301,\n",
              " '‘hands’': 302,\n",
              " 'travelling': 303,\n",
              " 'can': 304,\n",
              " 'cradle': 305,\n",
              " 'islington': 306,\n",
              " '‘field': 307,\n",
              " 'keeper’': 308,\n",
              " 'angel': 309,\n",
              " 'inn': 310,\n",
              " 'amenities': 311,\n",
              " '1718': 312,\n",
              " 'law': 313,\n",
              " 'courts': 314,\n",
              " 'dispute': 315,\n",
              " '‘cradle': 316,\n",
              " 'hampshire': 317,\n",
              " 'broad': 318,\n",
              " 'down': 319,\n",
              " 'halfpenny': 320,\n",
              " 'assume': 321,\n",
              " 'truly': 322,\n",
              " 'skilful': 323,\n",
              " 'scientific': 324,\n",
              " 'character': 325,\n",
              " 'which': 326,\n",
              " 'possesses': 327,\n",
              " '’': 328,\n",
              " 'immortalised': 329,\n",
              " 'writing': 330,\n",
              " 'john': 331,\n",
              " 'nyren': 332,\n",
              " 'captured': 333,\n",
              " 'segregation': 334,\n",
              " 'rich': 335,\n",
              " 'varied': 336,\n",
              " 'life': 337,\n",
              " 'through': 338,\n",
              " 'provincial': 339,\n",
              " 'towns': 340,\n",
              " 'grew': 341,\n",
              " 'industrialization': 342,\n",
              " 'yorkshire': 343,\n",
              " '1750’s': 344,\n",
              " '1744': 345,\n",
              " 'codified': 346,\n",
              " 'revised': 347,\n",
              " 'marylebone': 348,\n",
              " 'covered': 349,\n",
              " 'length': 350,\n",
              " 'pitch': 351,\n",
              " 'distance': 352,\n",
              " 'creases': 353,\n",
              " 'wicket': 354,\n",
              " 'size': 355,\n",
              " 'weight': 356,\n",
              " '1760': 357,\n",
              " 'replacing': 358,\n",
              " 'main': 359,\n",
              " 'deliver': 360,\n",
              " 'various': 361,\n",
              " 'lengths': 362,\n",
              " 'utilised': 363,\n",
              " 'bowlers': 364,\n",
              " 'development': 365,\n",
              " 'craft': 366,\n",
              " 'batting': 367,\n",
              " 'batters': 368,\n",
              " 'respond': 369,\n",
              " '‘straight': 370,\n",
              " 'bat’': 371,\n",
              " 'introduced': 372,\n",
              " 'counter': 373,\n",
              " 'old': 374,\n",
              " 'bent': 375,\n",
              " '‘hockey': 376,\n",
              " 'stick’': 377,\n",
              " 'style': 378,\n",
              " 'bat': 379,\n",
              " 'fashion': 380,\n",
              " 'pictures': 381,\n",
              " 'here': 382,\n",
              " 'display': 383,\n",
              " 'lords': 384,\n",
              " 'museum': 385,\n",
              " 'show': 386,\n",
              " 'bats': 387,\n",
              " 'global': 388,\n",
              " 'britains’': 389,\n",
              " 'imperialist': 390,\n",
              " 'ambitions': 391,\n",
              " 'navy': 392,\n",
              " 'army': 393,\n",
              " 'instrumental': 394,\n",
              " 'colonies': 395,\n",
              " 'america': 396,\n",
              " '1800’s': 397,\n",
              " 'inception': 398,\n",
              " 'colonization': 399,\n",
              " '19th': 400,\n",
              " 'africaand': 401,\n",
              " 'york': 402,\n",
              " '1844': 403,\n",
              " 'canada': 404,\n",
              " 'united': 405,\n",
              " 'states': 406,\n",
              " '1868': 407,\n",
              " 'aboriginal': 408,\n",
              " 'toured': 409,\n",
              " '1877': 410,\n",
              " 'begin': 411,\n",
              " 'oldest': 412,\n",
              " 'rivalry': 413,\n",
              " '1882': 414,\n",
              " 'lost': 415,\n",
              " 'mock': 416,\n",
              " 'obituary': 417,\n",
              " 'written': 418,\n",
              " 'melbourne': 419,\n",
              " 'ladies': 420,\n",
              " 'burnt': 421,\n",
              " 'bail': 422,\n",
              " 'presented': 423,\n",
              " 'captain': 424,\n",
              " 'ashes': 425,\n",
              " 'longest': 426,\n",
              " 'running': 427,\n",
              " 'saga': 428,\n",
              " 'off': 429,\n",
              " 'every': 430,\n",
              " 'fabled': 431,\n",
              " '1889': 432,\n",
              " 'third': 433,\n",
              " 'nation': 434,\n",
              " '1900': 435,\n",
              " 'made': 436,\n",
              " 'appearance': 437,\n",
              " 'france': 438,\n",
              " 'although': 439,\n",
              " 'interestingly': 440,\n",
              " 'looks': 441,\n",
              " 'if': 442,\n",
              " 'may': 443,\n",
              " 're': 444,\n",
              " 'admitted': 445,\n",
              " 'shortest': 446,\n",
              " 'form': 447,\n",
              " '1909': 448,\n",
              " 'imperial': 449,\n",
              " 'conference': 450,\n",
              " 'formed': 451,\n",
              " 'administrate': 452,\n",
              " 'primarily': 453,\n",
              " 'perspective': 454,\n",
              " 'founder': 455,\n",
              " 'members': 456,\n",
              " 'before': 457,\n",
              " 'ww': 458,\n",
              " 'pakistan': 459,\n",
              " 'joining': 460,\n",
              " 'affiliate': 461,\n",
              " 'like': 462,\n",
              " 'sri': 463,\n",
              " 'lanka': 464,\n",
              " 'formerly': 465,\n",
              " 'ceylon': 466,\n",
              " 'zimababwe': 467,\n",
              " 'bangladesh': 468,\n",
              " 'toward': 469,\n",
              " 'end': 470,\n",
              " 'major': 471,\n",
              " 'initially': 472,\n",
              " 'bodyline': 473,\n",
              " '1932': 474,\n",
              " '33': 475,\n",
              " 'englands’': 476,\n",
              " 'method': 477,\n",
              " 'countering': 478,\n",
              " 'genius': 479,\n",
              " 'don': 480,\n",
              " 'bradman': 481,\n",
              " 'lead': 482,\n",
              " 'bowl': 483,\n",
              " 'leg': 484,\n",
              " 'short': 485,\n",
              " 'pitched': 486,\n",
              " 'australians': 487,\n",
              " 'deemed': 488,\n",
              " '‘not': 489,\n",
              " 'such': 490,\n",
              " 'proportions': 491,\n",
              " 'threatened': 492,\n",
              " 'take': 493,\n",
              " 'political': 494,\n",
              " 'action': 495,\n",
              " 'so': 496,\n",
              " 'disturbed': 497,\n",
              " 'affair': 498,\n",
              " 'blew': 499,\n",
              " 'stage': 500,\n",
              " 'refused': 501,\n",
              " 'receive': 502,\n",
              " 'team': 503,\n",
              " 'cape': 504,\n",
              " 'basil': 505,\n",
              " 'racist': 506,\n",
              " 'policies': 507,\n",
              " 'cast': 508,\n",
              " 'wilderness': 509,\n",
              " 'return': 510,\n",
              " 'release': 511,\n",
              " 'nelson': 512,\n",
              " 'mandela': 513,\n",
              " 'institution': 514,\n",
              " 'multi': 515,\n",
              " 'racial': 516,\n",
              " '1960’s': 517,\n",
              " '70’s': 518,\n",
              " 'introduction': 519,\n",
              " 'single': 520,\n",
              " 'innings': 521,\n",
              " 'limited': 522,\n",
              " 'these': 523,\n",
              " 'proved': 524,\n",
              " 'hugely': 525,\n",
              " 'popular': 526,\n",
              " '1971': 527,\n",
              " 'mid': 528,\n",
              " 'media': 529,\n",
              " 'mogul': 530,\n",
              " 'kerry': 531,\n",
              " 'bought': 532,\n",
              " 'cricketers': 533,\n",
              " 'clothing': 534,\n",
              " 'took': 535,\n",
              " 'establishment': 536,\n",
              " 'legal': 537,\n",
              " 'battle': 538,\n",
              " 'right': 539,\n",
              " 'host': 540,\n",
              " 'televise': 541,\n",
              " 'long': 542,\n",
              " 'professionalising': 543,\n",
              " 'allowing': 544,\n",
              " 'living': 545,\n",
              " 'wage': 546,\n",
              " 'profession': 547,\n",
              " 'innovation': 548,\n",
              " 'developed': 549,\n",
              " 'some': 550,\n",
              " 'innovations': 551,\n",
              " 'tennis': 552,\n",
              " 'american': 553,\n",
              " 'bring': 554,\n",
              " 'better': 555,\n",
              " 'decision': 556,\n",
              " 'highlight': 557,\n",
              " 'areas': 558,\n",
              " 'interest': 559,\n",
              " 'tv': 560,\n",
              " 'slow': 561,\n",
              " 'motion': 562,\n",
              " 'replays': 563,\n",
              " 'specialist': 564,\n",
              " 'camera': 565,\n",
              " 'angles': 566,\n",
              " 'space': 567,\n",
              " 'age': 568,\n",
              " '‘stump': 569,\n",
              " 'cams’': 570,\n",
              " '’hot': 571,\n",
              " 'spots’': 572,\n",
              " '‘hawk': 573,\n",
              " 'eye’': 574,\n",
              " 'derived': 575,\n",
              " 'modern': 576,\n",
              " 'warfare': 577,\n",
              " 'improved': 578,\n",
              " 'decison': 579,\n",
              " 'remains': 580,\n",
              " 'breakdowns': 581,\n",
              " 'application': 582,\n",
              " 'lack': 583,\n",
              " 'uniform': 584,\n",
              " 'roll': 585,\n",
              " 'across': 586,\n",
              " 'all': 587,\n",
              " 'undermines': 588,\n",
              " 'credibility': 589,\n",
              " 't20': 590,\n",
              " 'rebirth': 591,\n",
              " 'death': 592,\n",
              " 'we': 593,\n",
              " 'know': 594,\n",
              " '2000’s': 595,\n",
              " 'literally': 596,\n",
              " 'exploded': 597,\n",
              " 'places': 598,\n",
              " 'target': 599,\n",
              " 'spectacularly': 600,\n",
              " 'seized': 601,\n",
              " 'upon': 602,\n",
              " 'bcci': 603,\n",
              " '2007': 604,\n",
              " 'cup': 605,\n",
              " 'indian': 606,\n",
              " 'modelled': 607,\n",
              " 'competition': 608,\n",
              " 'sporting': 609,\n",
              " 'because': 610,\n",
              " 'india’s': 611,\n",
              " 'vast': 612,\n",
              " 'population': 613,\n",
              " 'sub': 614,\n",
              " 'continent': 615,\n",
              " 'marketplace': 616,\n",
              " 'how': 617,\n",
              " 'grows': 618,\n",
              " 'remain': 619,\n",
              " 'consumes': 620,\n",
              " 'itself': 621,\n",
              " 'overkill': 622,\n",
              " 'goes': 623,\n",
              " '21st': 624,\n",
              " 'tell': 625}"
            ]
          },
          "metadata": {},
          "execution_count": 7
        }
      ]
    },
    {
      "cell_type": "code",
      "source": [
        "input_sequences = []\n",
        "for sentence in cricket_history.split('\\n'):\n",
        "    token_list = tokenizer.texts_to_sequences([sentence])[0]\n",
        "    for i in range(1, len(token_list)):\n",
        "        sequence = token_list[:i+1]\n",
        "        input_sequences.append(sequence)"
      ],
      "metadata": {
        "id": "vtx28QQHDOue"
      },
      "execution_count": 8,
      "outputs": []
    },
    {
      "cell_type": "code",
      "source": [
        "\n",
        "input_sequences[:5]"
      ],
      "metadata": {
        "colab": {
          "base_uri": "https://localhost:8080/"
        },
        "id": "eidixufKDUHq",
        "outputId": "bae3b6c9-adf9-413c-b65f-4229fed35ef5"
      },
      "execution_count": 9,
      "outputs": [
        {
          "output_type": "execute_result",
          "data": {
            "text/plain": [
              "[[6, 93],\n",
              " [6, 93, 22],\n",
              " [6, 93, 22, 94],\n",
              " [6, 93, 22, 94, 178],\n",
              " [6, 93, 22, 94, 178, 4]]"
            ]
          },
          "metadata": {},
          "execution_count": 9
        }
      ]
    },
    {
      "cell_type": "code",
      "source": [
        "max_length = max([len(input_sequence) for input_sequence in input_sequences])\n",
        "max_length"
      ],
      "metadata": {
        "colab": {
          "base_uri": "https://localhost:8080/"
        },
        "id": "FOWVGq0mDYLZ",
        "outputId": "dcbc612b-5d3e-4544-f4c3-eabfb3efc6f1"
      },
      "execution_count": 10,
      "outputs": [
        {
          "output_type": "execute_result",
          "data": {
            "text/plain": [
              "55"
            ]
          },
          "metadata": {},
          "execution_count": 10
        }
      ]
    },
    {
      "cell_type": "code",
      "source": [
        "input_sequences = np.array(tf.keras.preprocessing.sequence.pad_sequences(input_sequences, maxlen=max_length, padding='pre'))\n",
        ""
      ],
      "metadata": {
        "id": "LolDoNpJDbZ9"
      },
      "execution_count": 11,
      "outputs": []
    },
    {
      "cell_type": "code",
      "source": [
        "input_sequences[1]"
      ],
      "metadata": {
        "colab": {
          "base_uri": "https://localhost:8080/"
        },
        "id": "cmfwrCwfDdVg",
        "outputId": "6aed036a-69fe-4ef7-ff19-0eee6bff2fb0"
      },
      "execution_count": 12,
      "outputs": [
        {
          "output_type": "execute_result",
          "data": {
            "text/plain": [
              "array([ 0,  0,  0,  0,  0,  0,  0,  0,  0,  0,  0,  0,  0,  0,  0,  0,  0,\n",
              "        0,  0,  0,  0,  0,  0,  0,  0,  0,  0,  0,  0,  0,  0,  0,  0,  0,\n",
              "        0,  0,  0,  0,  0,  0,  0,  0,  0,  0,  0,  0,  0,  0,  0,  0,  0,\n",
              "        0,  6, 93, 22], dtype=int32)"
            ]
          },
          "metadata": {},
          "execution_count": 12
        }
      ]
    },
    {
      "cell_type": "code",
      "source": [
        "X = input_sequences[:, :-1]\n",
        "y = input_sequences[:, -1]"
      ],
      "metadata": {
        "id": "qxwzZTp2DhLD"
      },
      "execution_count": 13,
      "outputs": []
    },
    {
      "cell_type": "code",
      "source": [
        "X[0]"
      ],
      "metadata": {
        "colab": {
          "base_uri": "https://localhost:8080/"
        },
        "id": "7qVdokLiDi--",
        "outputId": "ab8115e5-d726-4c67-d8da-138439aadb74"
      },
      "execution_count": 14,
      "outputs": [
        {
          "output_type": "execute_result",
          "data": {
            "text/plain": [
              "array([0, 0, 0, 0, 0, 0, 0, 0, 0, 0, 0, 0, 0, 0, 0, 0, 0, 0, 0, 0, 0, 0,\n",
              "       0, 0, 0, 0, 0, 0, 0, 0, 0, 0, 0, 0, 0, 0, 0, 0, 0, 0, 0, 0, 0, 0,\n",
              "       0, 0, 0, 0, 0, 0, 0, 0, 0, 6], dtype=int32)"
            ]
          },
          "metadata": {},
          "execution_count": 14
        }
      ]
    },
    {
      "cell_type": "code",
      "source": [
        "y"
      ],
      "metadata": {
        "colab": {
          "base_uri": "https://localhost:8080/"
        },
        "id": "oJRwHA6nDl2g",
        "outputId": "f06a5117-9b4e-4f3d-b5ac-08c7d1321fcb"
      },
      "execution_count": 15,
      "outputs": [
        {
          "output_type": "execute_result",
          "data": {
            "text/plain": [
              "array([ 93,  22,  94, ...,  38, 177, 625], dtype=int32)"
            ]
          },
          "metadata": {},
          "execution_count": 15
        }
      ]
    },
    {
      "cell_type": "code",
      "source": [
        "num_classes = len(tokenizer.word_index)+1"
      ],
      "metadata": {
        "id": "E5-91PgtDovP"
      },
      "execution_count": 16,
      "outputs": []
    },
    {
      "cell_type": "code",
      "source": [
        "y = np.array(tf.keras.utils.to_categorical(y, num_classes=num_classes))"
      ],
      "metadata": {
        "id": "7WVno81yDr6G"
      },
      "execution_count": 17,
      "outputs": []
    },
    {
      "cell_type": "code",
      "source": [
        "y[1]\n"
      ],
      "metadata": {
        "colab": {
          "base_uri": "https://localhost:8080/"
        },
        "id": "8_wwsQfaDt9U",
        "outputId": "68016b32-ceb5-44cc-f814-d3ce5792a0c3"
      },
      "execution_count": 18,
      "outputs": [
        {
          "output_type": "execute_result",
          "data": {
            "text/plain": [
              "array([0., 0., 0., 0., 0., 0., 0., 0., 0., 0., 0., 0., 0., 0., 0., 0., 0.,\n",
              "       0., 0., 0., 0., 0., 1., 0., 0., 0., 0., 0., 0., 0., 0., 0., 0., 0.,\n",
              "       0., 0., 0., 0., 0., 0., 0., 0., 0., 0., 0., 0., 0., 0., 0., 0., 0.,\n",
              "       0., 0., 0., 0., 0., 0., 0., 0., 0., 0., 0., 0., 0., 0., 0., 0., 0.,\n",
              "       0., 0., 0., 0., 0., 0., 0., 0., 0., 0., 0., 0., 0., 0., 0., 0., 0.,\n",
              "       0., 0., 0., 0., 0., 0., 0., 0., 0., 0., 0., 0., 0., 0., 0., 0., 0.,\n",
              "       0., 0., 0., 0., 0., 0., 0., 0., 0., 0., 0., 0., 0., 0., 0., 0., 0.,\n",
              "       0., 0., 0., 0., 0., 0., 0., 0., 0., 0., 0., 0., 0., 0., 0., 0., 0.,\n",
              "       0., 0., 0., 0., 0., 0., 0., 0., 0., 0., 0., 0., 0., 0., 0., 0., 0.,\n",
              "       0., 0., 0., 0., 0., 0., 0., 0., 0., 0., 0., 0., 0., 0., 0., 0., 0.,\n",
              "       0., 0., 0., 0., 0., 0., 0., 0., 0., 0., 0., 0., 0., 0., 0., 0., 0.,\n",
              "       0., 0., 0., 0., 0., 0., 0., 0., 0., 0., 0., 0., 0., 0., 0., 0., 0.,\n",
              "       0., 0., 0., 0., 0., 0., 0., 0., 0., 0., 0., 0., 0., 0., 0., 0., 0.,\n",
              "       0., 0., 0., 0., 0., 0., 0., 0., 0., 0., 0., 0., 0., 0., 0., 0., 0.,\n",
              "       0., 0., 0., 0., 0., 0., 0., 0., 0., 0., 0., 0., 0., 0., 0., 0., 0.,\n",
              "       0., 0., 0., 0., 0., 0., 0., 0., 0., 0., 0., 0., 0., 0., 0., 0., 0.,\n",
              "       0., 0., 0., 0., 0., 0., 0., 0., 0., 0., 0., 0., 0., 0., 0., 0., 0.,\n",
              "       0., 0., 0., 0., 0., 0., 0., 0., 0., 0., 0., 0., 0., 0., 0., 0., 0.,\n",
              "       0., 0., 0., 0., 0., 0., 0., 0., 0., 0., 0., 0., 0., 0., 0., 0., 0.,\n",
              "       0., 0., 0., 0., 0., 0., 0., 0., 0., 0., 0., 0., 0., 0., 0., 0., 0.,\n",
              "       0., 0., 0., 0., 0., 0., 0., 0., 0., 0., 0., 0., 0., 0., 0., 0., 0.,\n",
              "       0., 0., 0., 0., 0., 0., 0., 0., 0., 0., 0., 0., 0., 0., 0., 0., 0.,\n",
              "       0., 0., 0., 0., 0., 0., 0., 0., 0., 0., 0., 0., 0., 0., 0., 0., 0.,\n",
              "       0., 0., 0., 0., 0., 0., 0., 0., 0., 0., 0., 0., 0., 0., 0., 0., 0.,\n",
              "       0., 0., 0., 0., 0., 0., 0., 0., 0., 0., 0., 0., 0., 0., 0., 0., 0.,\n",
              "       0., 0., 0., 0., 0., 0., 0., 0., 0., 0., 0., 0., 0., 0., 0., 0., 0.,\n",
              "       0., 0., 0., 0., 0., 0., 0., 0., 0., 0., 0., 0., 0., 0., 0., 0., 0.,\n",
              "       0., 0., 0., 0., 0., 0., 0., 0., 0., 0., 0., 0., 0., 0., 0., 0., 0.,\n",
              "       0., 0., 0., 0., 0., 0., 0., 0., 0., 0., 0., 0., 0., 0., 0., 0., 0.,\n",
              "       0., 0., 0., 0., 0., 0., 0., 0., 0., 0., 0., 0., 0., 0., 0., 0., 0.,\n",
              "       0., 0., 0., 0., 0., 0., 0., 0., 0., 0., 0., 0., 0., 0., 0., 0., 0.,\n",
              "       0., 0., 0., 0., 0., 0., 0., 0., 0., 0., 0., 0., 0., 0., 0., 0., 0.,\n",
              "       0., 0., 0., 0., 0., 0., 0., 0., 0., 0., 0., 0., 0., 0., 0., 0., 0.,\n",
              "       0., 0., 0., 0., 0., 0., 0., 0., 0., 0., 0., 0., 0., 0., 0., 0., 0.,\n",
              "       0., 0., 0., 0., 0., 0., 0., 0., 0., 0., 0., 0., 0., 0., 0., 0., 0.,\n",
              "       0., 0., 0., 0., 0., 0., 0., 0., 0., 0., 0., 0., 0., 0., 0., 0., 0.,\n",
              "       0., 0., 0., 0., 0., 0., 0., 0., 0., 0., 0., 0., 0., 0.])"
            ]
          },
          "metadata": {},
          "execution_count": 18
        }
      ]
    },
    {
      "cell_type": "code",
      "source": [
        "model = tf.keras.models.Sequential()\n",
        "model.add(tf.keras.layers.Embedding(num_classes, 80, input_length=max_length-1))\n",
        "model.add(tf.keras.layers.LSTM(100))\n",
        "model.add(tf.keras.layers.Dense(num_classes, activation='softmax'))"
      ],
      "metadata": {
        "colab": {
          "base_uri": "https://localhost:8080/"
        },
        "id": "msqUkQCdDwyC",
        "outputId": "94a33c46-7d11-400b-e822-10069ddadfd3"
      },
      "execution_count": 19,
      "outputs": [
        {
          "output_type": "stream",
          "name": "stderr",
          "text": [
            "/usr/local/lib/python3.11/dist-packages/keras/src/layers/core/embedding.py:90: UserWarning: Argument `input_length` is deprecated. Just remove it.\n",
            "  warnings.warn(\n"
          ]
        }
      ]
    },
    {
      "cell_type": "code",
      "source": [
        "\n",
        "\n",
        "model.summary()"
      ],
      "metadata": {
        "colab": {
          "base_uri": "https://localhost:8080/",
          "height": 225
        },
        "id": "k5JwARqJD0iK",
        "outputId": "121f8045-8a34-4432-c7e5-dd924e31243d"
      },
      "execution_count": 20,
      "outputs": [
        {
          "output_type": "display_data",
          "data": {
            "text/plain": [
              "\u001b[1mModel: \"sequential\"\u001b[0m\n"
            ],
            "text/html": [
              "<pre style=\"white-space:pre;overflow-x:auto;line-height:normal;font-family:Menlo,'DejaVu Sans Mono',consolas,'Courier New',monospace\"><span style=\"font-weight: bold\">Model: \"sequential\"</span>\n",
              "</pre>\n"
            ]
          },
          "metadata": {}
        },
        {
          "output_type": "display_data",
          "data": {
            "text/plain": [
              "┏━━━━━━━━━━━━━━━━━━━━━━━━━━━━━━━━━┳━━━━━━━━━━━━━━━━━━━━━━━━┳━━━━━━━━━━━━━━━┓\n",
              "┃\u001b[1m \u001b[0m\u001b[1mLayer (type)                   \u001b[0m\u001b[1m \u001b[0m┃\u001b[1m \u001b[0m\u001b[1mOutput Shape          \u001b[0m\u001b[1m \u001b[0m┃\u001b[1m \u001b[0m\u001b[1m      Param #\u001b[0m\u001b[1m \u001b[0m┃\n",
              "┡━━━━━━━━━━━━━━━━━━━━━━━━━━━━━━━━━╇━━━━━━━━━━━━━━━━━━━━━━━━╇━━━━━━━━━━━━━━━┩\n",
              "│ embedding (\u001b[38;5;33mEmbedding\u001b[0m)           │ ?                      │   \u001b[38;5;34m0\u001b[0m (unbuilt) │\n",
              "├─────────────────────────────────┼────────────────────────┼───────────────┤\n",
              "│ lstm (\u001b[38;5;33mLSTM\u001b[0m)                     │ ?                      │   \u001b[38;5;34m0\u001b[0m (unbuilt) │\n",
              "├─────────────────────────────────┼────────────────────────┼───────────────┤\n",
              "│ dense (\u001b[38;5;33mDense\u001b[0m)                   │ ?                      │   \u001b[38;5;34m0\u001b[0m (unbuilt) │\n",
              "└─────────────────────────────────┴────────────────────────┴───────────────┘\n"
            ],
            "text/html": [
              "<pre style=\"white-space:pre;overflow-x:auto;line-height:normal;font-family:Menlo,'DejaVu Sans Mono',consolas,'Courier New',monospace\">┏━━━━━━━━━━━━━━━━━━━━━━━━━━━━━━━━━┳━━━━━━━━━━━━━━━━━━━━━━━━┳━━━━━━━━━━━━━━━┓\n",
              "┃<span style=\"font-weight: bold\"> Layer (type)                    </span>┃<span style=\"font-weight: bold\"> Output Shape           </span>┃<span style=\"font-weight: bold\">       Param # </span>┃\n",
              "┡━━━━━━━━━━━━━━━━━━━━━━━━━━━━━━━━━╇━━━━━━━━━━━━━━━━━━━━━━━━╇━━━━━━━━━━━━━━━┩\n",
              "│ embedding (<span style=\"color: #0087ff; text-decoration-color: #0087ff\">Embedding</span>)           │ ?                      │   <span style=\"color: #00af00; text-decoration-color: #00af00\">0</span> (unbuilt) │\n",
              "├─────────────────────────────────┼────────────────────────┼───────────────┤\n",
              "│ lstm (<span style=\"color: #0087ff; text-decoration-color: #0087ff\">LSTM</span>)                     │ ?                      │   <span style=\"color: #00af00; text-decoration-color: #00af00\">0</span> (unbuilt) │\n",
              "├─────────────────────────────────┼────────────────────────┼───────────────┤\n",
              "│ dense (<span style=\"color: #0087ff; text-decoration-color: #0087ff\">Dense</span>)                   │ ?                      │   <span style=\"color: #00af00; text-decoration-color: #00af00\">0</span> (unbuilt) │\n",
              "└─────────────────────────────────┴────────────────────────┴───────────────┘\n",
              "</pre>\n"
            ]
          },
          "metadata": {}
        },
        {
          "output_type": "display_data",
          "data": {
            "text/plain": [
              "\u001b[1m Total params: \u001b[0m\u001b[38;5;34m0\u001b[0m (0.00 B)\n"
            ],
            "text/html": [
              "<pre style=\"white-space:pre;overflow-x:auto;line-height:normal;font-family:Menlo,'DejaVu Sans Mono',consolas,'Courier New',monospace\"><span style=\"font-weight: bold\"> Total params: </span><span style=\"color: #00af00; text-decoration-color: #00af00\">0</span> (0.00 B)\n",
              "</pre>\n"
            ]
          },
          "metadata": {}
        },
        {
          "output_type": "display_data",
          "data": {
            "text/plain": [
              "\u001b[1m Trainable params: \u001b[0m\u001b[38;5;34m0\u001b[0m (0.00 B)\n"
            ],
            "text/html": [
              "<pre style=\"white-space:pre;overflow-x:auto;line-height:normal;font-family:Menlo,'DejaVu Sans Mono',consolas,'Courier New',monospace\"><span style=\"font-weight: bold\"> Trainable params: </span><span style=\"color: #00af00; text-decoration-color: #00af00\">0</span> (0.00 B)\n",
              "</pre>\n"
            ]
          },
          "metadata": {}
        },
        {
          "output_type": "display_data",
          "data": {
            "text/plain": [
              "\u001b[1m Non-trainable params: \u001b[0m\u001b[38;5;34m0\u001b[0m (0.00 B)\n"
            ],
            "text/html": [
              "<pre style=\"white-space:pre;overflow-x:auto;line-height:normal;font-family:Menlo,'DejaVu Sans Mono',consolas,'Courier New',monospace\"><span style=\"font-weight: bold\"> Non-trainable params: </span><span style=\"color: #00af00; text-decoration-color: #00af00\">0</span> (0.00 B)\n",
              "</pre>\n"
            ]
          },
          "metadata": {}
        }
      ]
    },
    {
      "cell_type": "code",
      "source": [
        "model.compile(loss='categorical_crossentropy',\n",
        "              optimizer='adam',\n",
        "              metrics=['accuracy'])"
      ],
      "metadata": {
        "id": "4ZlOc8cYD2qD"
      },
      "execution_count": 21,
      "outputs": []
    },
    {
      "cell_type": "code",
      "source": [
        "history = model.fit(X, y, epochs=100)"
      ],
      "metadata": {
        "colab": {
          "base_uri": "https://localhost:8080/"
        },
        "id": "XhG67wRUD6bI",
        "outputId": "8ae23724-550b-4108-cce1-296d8b5ae70c"
      },
      "execution_count": 22,
      "outputs": [
        {
          "output_type": "stream",
          "name": "stdout",
          "text": [
            "Epoch 1/100\n",
            "\u001b[1m47/47\u001b[0m \u001b[32m━━━━━━━━━━━━━━━━━━━━\u001b[0m\u001b[37m\u001b[0m \u001b[1m6s\u001b[0m 44ms/step - accuracy: 0.0328 - loss: 6.3218\n",
            "Epoch 2/100\n",
            "\u001b[1m47/47\u001b[0m \u001b[32m━━━━━━━━━━━━━━━━━━━━\u001b[0m\u001b[37m\u001b[0m \u001b[1m2s\u001b[0m 43ms/step - accuracy: 0.0938 - loss: 5.6259\n",
            "Epoch 3/100\n",
            "\u001b[1m47/47\u001b[0m \u001b[32m━━━━━━━━━━━━━━━━━━━━\u001b[0m\u001b[37m\u001b[0m \u001b[1m3s\u001b[0m 44ms/step - accuracy: 0.0933 - loss: 5.5008\n",
            "Epoch 4/100\n",
            "\u001b[1m47/47\u001b[0m \u001b[32m━━━━━━━━━━━━━━━━━━━━\u001b[0m\u001b[37m\u001b[0m \u001b[1m3s\u001b[0m 57ms/step - accuracy: 0.0948 - loss: 5.4792\n",
            "Epoch 5/100\n",
            "\u001b[1m47/47\u001b[0m \u001b[32m━━━━━━━━━━━━━━━━━━━━\u001b[0m\u001b[37m\u001b[0m \u001b[1m3s\u001b[0m 61ms/step - accuracy: 0.1075 - loss: 5.3747\n",
            "Epoch 6/100\n",
            "\u001b[1m47/47\u001b[0m \u001b[32m━━━━━━━━━━━━━━━━━━━━\u001b[0m\u001b[37m\u001b[0m \u001b[1m5s\u001b[0m 51ms/step - accuracy: 0.1013 - loss: 5.2217\n",
            "Epoch 7/100\n",
            "\u001b[1m47/47\u001b[0m \u001b[32m━━━━━━━━━━━━━━━━━━━━\u001b[0m\u001b[37m\u001b[0m \u001b[1m2s\u001b[0m 44ms/step - accuracy: 0.1036 - loss: 5.2161\n",
            "Epoch 8/100\n",
            "\u001b[1m47/47\u001b[0m \u001b[32m━━━━━━━━━━━━━━━━━━━━\u001b[0m\u001b[37m\u001b[0m \u001b[1m2s\u001b[0m 43ms/step - accuracy: 0.0948 - loss: 5.1640\n",
            "Epoch 9/100\n",
            "\u001b[1m47/47\u001b[0m \u001b[32m━━━━━━━━━━━━━━━━━━━━\u001b[0m\u001b[37m\u001b[0m \u001b[1m4s\u001b[0m 68ms/step - accuracy: 0.1287 - loss: 4.9758\n",
            "Epoch 10/100\n",
            "\u001b[1m47/47\u001b[0m \u001b[32m━━━━━━━━━━━━━━━━━━━━\u001b[0m\u001b[37m\u001b[0m \u001b[1m2s\u001b[0m 44ms/step - accuracy: 0.1215 - loss: 4.8723\n",
            "Epoch 11/100\n",
            "\u001b[1m47/47\u001b[0m \u001b[32m━━━━━━━━━━━━━━━━━━━━\u001b[0m\u001b[37m\u001b[0m \u001b[1m3s\u001b[0m 43ms/step - accuracy: 0.1224 - loss: 4.8053\n",
            "Epoch 12/100\n",
            "\u001b[1m47/47\u001b[0m \u001b[32m━━━━━━━━━━━━━━━━━━━━\u001b[0m\u001b[37m\u001b[0m \u001b[1m3s\u001b[0m 46ms/step - accuracy: 0.1299 - loss: 4.7214\n",
            "Epoch 13/100\n",
            "\u001b[1m47/47\u001b[0m \u001b[32m━━━━━━━━━━━━━━━━━━━━\u001b[0m\u001b[37m\u001b[0m \u001b[1m2s\u001b[0m 43ms/step - accuracy: 0.1479 - loss: 4.5627\n",
            "Epoch 14/100\n",
            "\u001b[1m47/47\u001b[0m \u001b[32m━━━━━━━━━━━━━━━━━━━━\u001b[0m\u001b[37m\u001b[0m \u001b[1m3s\u001b[0m 72ms/step - accuracy: 0.1542 - loss: 4.4719\n",
            "Epoch 15/100\n",
            "\u001b[1m47/47\u001b[0m \u001b[32m━━━━━━━━━━━━━━━━━━━━\u001b[0m\u001b[37m\u001b[0m \u001b[1m2s\u001b[0m 43ms/step - accuracy: 0.1664 - loss: 4.3663\n",
            "Epoch 16/100\n",
            "\u001b[1m47/47\u001b[0m \u001b[32m━━━━━━━━━━━━━━━━━━━━\u001b[0m\u001b[37m\u001b[0m \u001b[1m3s\u001b[0m 47ms/step - accuracy: 0.1685 - loss: 4.3365\n",
            "Epoch 17/100\n",
            "\u001b[1m47/47\u001b[0m \u001b[32m━━━━━━━━━━━━━━━━━━━━\u001b[0m\u001b[37m\u001b[0m \u001b[1m2s\u001b[0m 46ms/step - accuracy: 0.1852 - loss: 4.1702\n",
            "Epoch 18/100\n",
            "\u001b[1m47/47\u001b[0m \u001b[32m━━━━━━━━━━━━━━━━━━━━\u001b[0m\u001b[37m\u001b[0m \u001b[1m2s\u001b[0m 44ms/step - accuracy: 0.1702 - loss: 4.2481\n",
            "Epoch 19/100\n",
            "\u001b[1m47/47\u001b[0m \u001b[32m━━━━━━━━━━━━━━━━━━━━\u001b[0m\u001b[37m\u001b[0m \u001b[1m4s\u001b[0m 72ms/step - accuracy: 0.1803 - loss: 4.0912\n",
            "Epoch 20/100\n",
            "\u001b[1m47/47\u001b[0m \u001b[32m━━━━━━━━━━━━━━━━━━━━\u001b[0m\u001b[37m\u001b[0m \u001b[1m2s\u001b[0m 44ms/step - accuracy: 0.2009 - loss: 3.9561\n",
            "Epoch 21/100\n",
            "\u001b[1m47/47\u001b[0m \u001b[32m━━━━━━━━━━━━━━━━━━━━\u001b[0m\u001b[37m\u001b[0m \u001b[1m3s\u001b[0m 44ms/step - accuracy: 0.2105 - loss: 3.8912\n",
            "Epoch 22/100\n",
            "\u001b[1m47/47\u001b[0m \u001b[32m━━━━━━━━━━━━━━━━━━━━\u001b[0m\u001b[37m\u001b[0m \u001b[1m3s\u001b[0m 45ms/step - accuracy: 0.2298 - loss: 3.8091\n",
            "Epoch 23/100\n",
            "\u001b[1m47/47\u001b[0m \u001b[32m━━━━━━━━━━━━━━━━━━━━\u001b[0m\u001b[37m\u001b[0m \u001b[1m2s\u001b[0m 44ms/step - accuracy: 0.2462 - loss: 3.7043\n",
            "Epoch 24/100\n",
            "\u001b[1m47/47\u001b[0m \u001b[32m━━━━━━━━━━━━━━━━━━━━\u001b[0m\u001b[37m\u001b[0m \u001b[1m4s\u001b[0m 66ms/step - accuracy: 0.2398 - loss: 3.6434\n",
            "Epoch 25/100\n",
            "\u001b[1m47/47\u001b[0m \u001b[32m━━━━━━━━━━━━━━━━━━━━\u001b[0m\u001b[37m\u001b[0m \u001b[1m2s\u001b[0m 45ms/step - accuracy: 0.2613 - loss: 3.5262\n",
            "Epoch 26/100\n",
            "\u001b[1m47/47\u001b[0m \u001b[32m━━━━━━━━━━━━━━━━━━━━\u001b[0m\u001b[37m\u001b[0m \u001b[1m3s\u001b[0m 45ms/step - accuracy: 0.2889 - loss: 3.4141\n",
            "Epoch 27/100\n",
            "\u001b[1m47/47\u001b[0m \u001b[32m━━━━━━━━━━━━━━━━━━━━\u001b[0m\u001b[37m\u001b[0m \u001b[1m2s\u001b[0m 44ms/step - accuracy: 0.3021 - loss: 3.3292\n",
            "Epoch 28/100\n",
            "\u001b[1m47/47\u001b[0m \u001b[32m━━━━━━━━━━━━━━━━━━━━\u001b[0m\u001b[37m\u001b[0m \u001b[1m2s\u001b[0m 44ms/step - accuracy: 0.2972 - loss: 3.2942\n",
            "Epoch 29/100\n",
            "\u001b[1m47/47\u001b[0m \u001b[32m━━━━━━━━━━━━━━━━━━━━\u001b[0m\u001b[37m\u001b[0m \u001b[1m4s\u001b[0m 73ms/step - accuracy: 0.3380 - loss: 3.1410\n",
            "Epoch 30/100\n",
            "\u001b[1m47/47\u001b[0m \u001b[32m━━━━━━━━━━━━━━━━━━━━\u001b[0m\u001b[37m\u001b[0m \u001b[1m4s\u001b[0m 46ms/step - accuracy: 0.3495 - loss: 3.1161\n",
            "Epoch 31/100\n",
            "\u001b[1m47/47\u001b[0m \u001b[32m━━━━━━━━━━━━━━━━━━━━\u001b[0m\u001b[37m\u001b[0m \u001b[1m2s\u001b[0m 44ms/step - accuracy: 0.3902 - loss: 2.9286\n",
            "Epoch 32/100\n",
            "\u001b[1m47/47\u001b[0m \u001b[32m━━━━━━━━━━━━━━━━━━━━\u001b[0m\u001b[37m\u001b[0m \u001b[1m2s\u001b[0m 45ms/step - accuracy: 0.3836 - loss: 2.9339\n",
            "Epoch 33/100\n",
            "\u001b[1m47/47\u001b[0m \u001b[32m━━━━━━━━━━━━━━━━━━━━\u001b[0m\u001b[37m\u001b[0m \u001b[1m3s\u001b[0m 58ms/step - accuracy: 0.4228 - loss: 2.8094\n",
            "Epoch 34/100\n",
            "\u001b[1m47/47\u001b[0m \u001b[32m━━━━━━━━━━━━━━━━━━━━\u001b[0m\u001b[37m\u001b[0m \u001b[1m4s\u001b[0m 45ms/step - accuracy: 0.4525 - loss: 2.6845\n",
            "Epoch 35/100\n",
            "\u001b[1m47/47\u001b[0m \u001b[32m━━━━━━━━━━━━━━━━━━━━\u001b[0m\u001b[37m\u001b[0m \u001b[1m3s\u001b[0m 44ms/step - accuracy: 0.4784 - loss: 2.6448\n",
            "Epoch 36/100\n",
            "\u001b[1m47/47\u001b[0m \u001b[32m━━━━━━━━━━━━━━━━━━━━\u001b[0m\u001b[37m\u001b[0m \u001b[1m2s\u001b[0m 45ms/step - accuracy: 0.4850 - loss: 2.5800\n",
            "Epoch 37/100\n",
            "\u001b[1m47/47\u001b[0m \u001b[32m━━━━━━━━━━━━━━━━━━━━\u001b[0m\u001b[37m\u001b[0m \u001b[1m2s\u001b[0m 51ms/step - accuracy: 0.5287 - loss: 2.4906\n",
            "Epoch 38/100\n",
            "\u001b[1m47/47\u001b[0m \u001b[32m━━━━━━━━━━━━━━━━━━━━\u001b[0m\u001b[37m\u001b[0m \u001b[1m3s\u001b[0m 63ms/step - accuracy: 0.5314 - loss: 2.4394\n",
            "Epoch 39/100\n",
            "\u001b[1m47/47\u001b[0m \u001b[32m━━━━━━━━━━━━━━━━━━━━\u001b[0m\u001b[37m\u001b[0m \u001b[1m4s\u001b[0m 45ms/step - accuracy: 0.5552 - loss: 2.3531\n",
            "Epoch 40/100\n",
            "\u001b[1m47/47\u001b[0m \u001b[32m━━━━━━━━━━━━━━━━━━━━\u001b[0m\u001b[37m\u001b[0m \u001b[1m2s\u001b[0m 44ms/step - accuracy: 0.5872 - loss: 2.2405\n",
            "Epoch 41/100\n",
            "\u001b[1m47/47\u001b[0m \u001b[32m━━━━━━━━━━━━━━━━━━━━\u001b[0m\u001b[37m\u001b[0m \u001b[1m2s\u001b[0m 44ms/step - accuracy: 0.6286 - loss: 2.1539\n",
            "Epoch 42/100\n",
            "\u001b[1m47/47\u001b[0m \u001b[32m━━━━━━━━━━━━━━━━━━━━\u001b[0m\u001b[37m\u001b[0m \u001b[1m4s\u001b[0m 69ms/step - accuracy: 0.6158 - loss: 2.1291\n",
            "Epoch 43/100\n",
            "\u001b[1m47/47\u001b[0m \u001b[32m━━━━━━━━━━━━━━━━━━━━\u001b[0m\u001b[37m\u001b[0m \u001b[1m4s\u001b[0m 45ms/step - accuracy: 0.6548 - loss: 1.9602\n",
            "Epoch 44/100\n",
            "\u001b[1m47/47\u001b[0m \u001b[32m━━━━━━━━━━━━━━━━━━━━\u001b[0m\u001b[37m\u001b[0m \u001b[1m2s\u001b[0m 45ms/step - accuracy: 0.6805 - loss: 1.9027\n",
            "Epoch 45/100\n",
            "\u001b[1m47/47\u001b[0m \u001b[32m━━━━━━━━━━━━━━━━━━━━\u001b[0m\u001b[37m\u001b[0m \u001b[1m2s\u001b[0m 44ms/step - accuracy: 0.6880 - loss: 1.8126\n",
            "Epoch 46/100\n",
            "\u001b[1m47/47\u001b[0m \u001b[32m━━━━━━━━━━━━━━━━━━━━\u001b[0m\u001b[37m\u001b[0m \u001b[1m3s\u001b[0m 65ms/step - accuracy: 0.7139 - loss: 1.7724\n",
            "Epoch 47/100\n",
            "\u001b[1m47/47\u001b[0m \u001b[32m━━━━━━━━━━━━━━━━━━━━\u001b[0m\u001b[37m\u001b[0m \u001b[1m4s\u001b[0m 44ms/step - accuracy: 0.6928 - loss: 1.7374\n",
            "Epoch 48/100\n",
            "\u001b[1m47/47\u001b[0m \u001b[32m━━━━━━━━━━━━━━━━━━━━\u001b[0m\u001b[37m\u001b[0m \u001b[1m2s\u001b[0m 44ms/step - accuracy: 0.7273 - loss: 1.6677\n",
            "Epoch 49/100\n",
            "\u001b[1m47/47\u001b[0m \u001b[32m━━━━━━━━━━━━━━━━━━━━\u001b[0m\u001b[37m\u001b[0m \u001b[1m3s\u001b[0m 44ms/step - accuracy: 0.7483 - loss: 1.6039\n",
            "Epoch 50/100\n",
            "\u001b[1m47/47\u001b[0m \u001b[32m━━━━━━━━━━━━━━━━━━━━\u001b[0m\u001b[37m\u001b[0m \u001b[1m2s\u001b[0m 50ms/step - accuracy: 0.7809 - loss: 1.5170\n",
            "Epoch 51/100\n",
            "\u001b[1m47/47\u001b[0m \u001b[32m━━━━━━━━━━━━━━━━━━━━\u001b[0m\u001b[37m\u001b[0m \u001b[1m3s\u001b[0m 62ms/step - accuracy: 0.7783 - loss: 1.4766\n",
            "Epoch 52/100\n",
            "\u001b[1m47/47\u001b[0m \u001b[32m━━━━━━━━━━━━━━━━━━━━\u001b[0m\u001b[37m\u001b[0m \u001b[1m2s\u001b[0m 44ms/step - accuracy: 0.7818 - loss: 1.4272\n",
            "Epoch 53/100\n",
            "\u001b[1m47/47\u001b[0m \u001b[32m━━━━━━━━━━━━━━━━━━━━\u001b[0m\u001b[37m\u001b[0m \u001b[1m3s\u001b[0m 46ms/step - accuracy: 0.8022 - loss: 1.3508\n",
            "Epoch 54/100\n",
            "\u001b[1m47/47\u001b[0m \u001b[32m━━━━━━━━━━━━━━━━━━━━\u001b[0m\u001b[37m\u001b[0m \u001b[1m2s\u001b[0m 44ms/step - accuracy: 0.8225 - loss: 1.2853\n",
            "Epoch 55/100\n",
            "\u001b[1m47/47\u001b[0m \u001b[32m━━━━━━━━━━━━━━━━━━━━\u001b[0m\u001b[37m\u001b[0m \u001b[1m2s\u001b[0m 44ms/step - accuracy: 0.8139 - loss: 1.3089\n",
            "Epoch 56/100\n",
            "\u001b[1m47/47\u001b[0m \u001b[32m━━━━━━━━━━━━━━━━━━━━\u001b[0m\u001b[37m\u001b[0m \u001b[1m3s\u001b[0m 72ms/step - accuracy: 0.8183 - loss: 1.2236\n",
            "Epoch 57/100\n",
            "\u001b[1m47/47\u001b[0m \u001b[32m━━━━━━━━━━━━━━━━━━━━\u001b[0m\u001b[37m\u001b[0m \u001b[1m2s\u001b[0m 44ms/step - accuracy: 0.8119 - loss: 1.2001\n",
            "Epoch 58/100\n",
            "\u001b[1m47/47\u001b[0m \u001b[32m━━━━━━━━━━━━━━━━━━━━\u001b[0m\u001b[37m\u001b[0m \u001b[1m4s\u001b[0m 82ms/step - accuracy: 0.8316 - loss: 1.1431\n",
            "Epoch 59/100\n",
            "\u001b[1m47/47\u001b[0m \u001b[32m━━━━━━━━━━━━━━━━━━━━\u001b[0m\u001b[37m\u001b[0m \u001b[1m3s\u001b[0m 45ms/step - accuracy: 0.8432 - loss: 1.0917\n",
            "Epoch 60/100\n",
            "\u001b[1m47/47\u001b[0m \u001b[32m━━━━━━━━━━━━━━━━━━━━\u001b[0m\u001b[37m\u001b[0m \u001b[1m3s\u001b[0m 71ms/step - accuracy: 0.8510 - loss: 1.0422\n",
            "Epoch 61/100\n",
            "\u001b[1m47/47\u001b[0m \u001b[32m━━━━━━━━━━━━━━━━━━━━\u001b[0m\u001b[37m\u001b[0m \u001b[1m4s\u001b[0m 44ms/step - accuracy: 0.8559 - loss: 1.0053\n",
            "Epoch 62/100\n",
            "\u001b[1m47/47\u001b[0m \u001b[32m━━━━━━━━━━━━━━━━━━━━\u001b[0m\u001b[37m\u001b[0m \u001b[1m2s\u001b[0m 44ms/step - accuracy: 0.8669 - loss: 0.9249\n",
            "Epoch 63/100\n",
            "\u001b[1m47/47\u001b[0m \u001b[32m━━━━━━━━━━━━━━━━━━━━\u001b[0m\u001b[37m\u001b[0m \u001b[1m2s\u001b[0m 45ms/step - accuracy: 0.8648 - loss: 0.9399\n",
            "Epoch 64/100\n",
            "\u001b[1m47/47\u001b[0m \u001b[32m━━━━━━━━━━━━━━━━━━━━\u001b[0m\u001b[37m\u001b[0m \u001b[1m2s\u001b[0m 44ms/step - accuracy: 0.8833 - loss: 0.8652\n",
            "Epoch 65/100\n",
            "\u001b[1m47/47\u001b[0m \u001b[32m━━━━━━━━━━━━━━━━━━━━\u001b[0m\u001b[37m\u001b[0m \u001b[1m3s\u001b[0m 71ms/step - accuracy: 0.8772 - loss: 0.8708\n",
            "Epoch 66/100\n",
            "\u001b[1m47/47\u001b[0m \u001b[32m━━━━━━━━━━━━━━━━━━━━\u001b[0m\u001b[37m\u001b[0m \u001b[1m2s\u001b[0m 44ms/step - accuracy: 0.8731 - loss: 0.8654\n",
            "Epoch 67/100\n",
            "\u001b[1m47/47\u001b[0m \u001b[32m━━━━━━━━━━━━━━━━━━━━\u001b[0m\u001b[37m\u001b[0m \u001b[1m2s\u001b[0m 45ms/step - accuracy: 0.8809 - loss: 0.8180\n",
            "Epoch 68/100\n",
            "\u001b[1m47/47\u001b[0m \u001b[32m━━━━━━━━━━━━━━━━━━━━\u001b[0m\u001b[37m\u001b[0m \u001b[1m2s\u001b[0m 46ms/step - accuracy: 0.8947 - loss: 0.7747\n",
            "Epoch 69/100\n",
            "\u001b[1m47/47\u001b[0m \u001b[32m━━━━━━━━━━━━━━━━━━━━\u001b[0m\u001b[37m\u001b[0m \u001b[1m2s\u001b[0m 45ms/step - accuracy: 0.8886 - loss: 0.7375\n",
            "Epoch 70/100\n",
            "\u001b[1m47/47\u001b[0m \u001b[32m━━━━━━━━━━━━━━━━━━━━\u001b[0m\u001b[37m\u001b[0m \u001b[1m3s\u001b[0m 67ms/step - accuracy: 0.8844 - loss: 0.7547\n",
            "Epoch 71/100\n",
            "\u001b[1m47/47\u001b[0m \u001b[32m━━━━━━━━━━━━━━━━━━━━\u001b[0m\u001b[37m\u001b[0m \u001b[1m4s\u001b[0m 45ms/step - accuracy: 0.9110 - loss: 0.6687\n",
            "Epoch 72/100\n",
            "\u001b[1m47/47\u001b[0m \u001b[32m━━━━━━━━━━━━━━━━━━━━\u001b[0m\u001b[37m\u001b[0m \u001b[1m3s\u001b[0m 45ms/step - accuracy: 0.9173 - loss: 0.6542\n",
            "Epoch 73/100\n",
            "\u001b[1m47/47\u001b[0m \u001b[32m━━━━━━━━━━━━━━━━━━━━\u001b[0m\u001b[37m\u001b[0m \u001b[1m3s\u001b[0m 45ms/step - accuracy: 0.9206 - loss: 0.6198\n",
            "Epoch 74/100\n",
            "\u001b[1m47/47\u001b[0m \u001b[32m━━━━━━━━━━━━━━━━━━━━\u001b[0m\u001b[37m\u001b[0m \u001b[1m3s\u001b[0m 61ms/step - accuracy: 0.9274 - loss: 0.6018\n",
            "Epoch 75/100\n",
            "\u001b[1m47/47\u001b[0m \u001b[32m━━━━━━━━━━━━━━━━━━━━\u001b[0m\u001b[37m\u001b[0m \u001b[1m3s\u001b[0m 56ms/step - accuracy: 0.9313 - loss: 0.5839\n",
            "Epoch 76/100\n",
            "\u001b[1m47/47\u001b[0m \u001b[32m━━━━━━━━━━━━━━━━━━━━\u001b[0m\u001b[37m\u001b[0m \u001b[1m5s\u001b[0m 44ms/step - accuracy: 0.9351 - loss: 0.5601\n",
            "Epoch 77/100\n",
            "\u001b[1m47/47\u001b[0m \u001b[32m━━━━━━━━━━━━━━━━━━━━\u001b[0m\u001b[37m\u001b[0m \u001b[1m3s\u001b[0m 44ms/step - accuracy: 0.9292 - loss: 0.5733\n",
            "Epoch 78/100\n",
            "\u001b[1m47/47\u001b[0m \u001b[32m━━━━━━━━━━━━━━━━━━━━\u001b[0m\u001b[37m\u001b[0m \u001b[1m3s\u001b[0m 57ms/step - accuracy: 0.9251 - loss: 0.5552\n",
            "Epoch 79/100\n",
            "\u001b[1m47/47\u001b[0m \u001b[32m━━━━━━━━━━━━━━━━━━━━\u001b[0m\u001b[37m\u001b[0m \u001b[1m5s\u001b[0m 46ms/step - accuracy: 0.9404 - loss: 0.5310\n",
            "Epoch 80/100\n",
            "\u001b[1m47/47\u001b[0m \u001b[32m━━━━━━━━━━━━━━━━━━━━\u001b[0m\u001b[37m\u001b[0m \u001b[1m2s\u001b[0m 44ms/step - accuracy: 0.9467 - loss: 0.5183\n",
            "Epoch 81/100\n",
            "\u001b[1m47/47\u001b[0m \u001b[32m━━━━━━━━━━━━━━━━━━━━\u001b[0m\u001b[37m\u001b[0m \u001b[1m3s\u001b[0m 45ms/step - accuracy: 0.9447 - loss: 0.4889\n",
            "Epoch 82/100\n",
            "\u001b[1m47/47\u001b[0m \u001b[32m━━━━━━━━━━━━━━━━━━━━\u001b[0m\u001b[37m\u001b[0m \u001b[1m2s\u001b[0m 53ms/step - accuracy: 0.9337 - loss: 0.4727\n",
            "Epoch 83/100\n",
            "\u001b[1m47/47\u001b[0m \u001b[32m━━━━━━━━━━━━━━━━━━━━\u001b[0m\u001b[37m\u001b[0m \u001b[1m3s\u001b[0m 62ms/step - accuracy: 0.9535 - loss: 0.4443\n",
            "Epoch 84/100\n",
            "\u001b[1m47/47\u001b[0m \u001b[32m━━━━━━━━━━━━━━━━━━━━\u001b[0m\u001b[37m\u001b[0m \u001b[1m4s\u001b[0m 45ms/step - accuracy: 0.9447 - loss: 0.4633\n",
            "Epoch 85/100\n",
            "\u001b[1m47/47\u001b[0m \u001b[32m━━━━━━━━━━━━━━━━━━━━\u001b[0m\u001b[37m\u001b[0m \u001b[1m3s\u001b[0m 44ms/step - accuracy: 0.9489 - loss: 0.4160\n",
            "Epoch 86/100\n",
            "\u001b[1m47/47\u001b[0m \u001b[32m━━━━━━━━━━━━━━━━━━━━\u001b[0m\u001b[37m\u001b[0m \u001b[1m3s\u001b[0m 49ms/step - accuracy: 0.9526 - loss: 0.3941\n",
            "Epoch 87/100\n",
            "\u001b[1m47/47\u001b[0m \u001b[32m━━━━━━━━━━━━━━━━━━━━\u001b[0m\u001b[37m\u001b[0m \u001b[1m3s\u001b[0m 68ms/step - accuracy: 0.9550 - loss: 0.3919\n",
            "Epoch 88/100\n",
            "\u001b[1m47/47\u001b[0m \u001b[32m━━━━━━━━━━━━━━━━━━━━\u001b[0m\u001b[37m\u001b[0m \u001b[1m4s\u001b[0m 44ms/step - accuracy: 0.9614 - loss: 0.3784\n",
            "Epoch 89/100\n",
            "\u001b[1m47/47\u001b[0m \u001b[32m━━━━━━━━━━━━━━━━━━━━\u001b[0m\u001b[37m\u001b[0m \u001b[1m3s\u001b[0m 44ms/step - accuracy: 0.9622 - loss: 0.3497\n",
            "Epoch 90/100\n",
            "\u001b[1m47/47\u001b[0m \u001b[32m━━━━━━━━━━━━━━━━━━━━\u001b[0m\u001b[37m\u001b[0m \u001b[1m3s\u001b[0m 46ms/step - accuracy: 0.9609 - loss: 0.3584\n",
            "Epoch 91/100\n",
            "\u001b[1m47/47\u001b[0m \u001b[32m━━━━━━━━━━━━━━━━━━━━\u001b[0m\u001b[37m\u001b[0m \u001b[1m4s\u001b[0m 68ms/step - accuracy: 0.9636 - loss: 0.3503\n",
            "Epoch 92/100\n",
            "\u001b[1m47/47\u001b[0m \u001b[32m━━━━━━━━━━━━━━━━━━━━\u001b[0m\u001b[37m\u001b[0m \u001b[1m4s\u001b[0m 44ms/step - accuracy: 0.9595 - loss: 0.3269\n",
            "Epoch 93/100\n",
            "\u001b[1m47/47\u001b[0m \u001b[32m━━━━━━━━━━━━━━━━━━━━\u001b[0m\u001b[37m\u001b[0m \u001b[1m2s\u001b[0m 44ms/step - accuracy: 0.9618 - loss: 0.3365\n",
            "Epoch 94/100\n",
            "\u001b[1m47/47\u001b[0m \u001b[32m━━━━━━━━━━━━━━━━━━━━\u001b[0m\u001b[37m\u001b[0m \u001b[1m2s\u001b[0m 45ms/step - accuracy: 0.9570 - loss: 0.3271\n",
            "Epoch 95/100\n",
            "\u001b[1m47/47\u001b[0m \u001b[32m━━━━━━━━━━━━━━━━━━━━\u001b[0m\u001b[37m\u001b[0m \u001b[1m3s\u001b[0m 59ms/step - accuracy: 0.9657 - loss: 0.3125\n",
            "Epoch 96/100\n",
            "\u001b[1m47/47\u001b[0m \u001b[32m━━━━━━━━━━━━━━━━━━━━\u001b[0m\u001b[37m\u001b[0m \u001b[1m3s\u001b[0m 57ms/step - accuracy: 0.9696 - loss: 0.2905\n",
            "Epoch 97/100\n",
            "\u001b[1m47/47\u001b[0m \u001b[32m━━━━━━━━━━━━━━━━━━━━\u001b[0m\u001b[37m\u001b[0m \u001b[1m2s\u001b[0m 48ms/step - accuracy: 0.9671 - loss: 0.2894\n",
            "Epoch 98/100\n",
            "\u001b[1m47/47\u001b[0m \u001b[32m━━━━━━━━━━━━━━━━━━━━\u001b[0m\u001b[37m\u001b[0m \u001b[1m2s\u001b[0m 45ms/step - accuracy: 0.9667 - loss: 0.2809\n",
            "Epoch 99/100\n",
            "\u001b[1m47/47\u001b[0m \u001b[32m━━━━━━━━━━━━━━━━━━━━\u001b[0m\u001b[37m\u001b[0m \u001b[1m3s\u001b[0m 46ms/step - accuracy: 0.9718 - loss: 0.2703\n",
            "Epoch 100/100\n",
            "\u001b[1m47/47\u001b[0m \u001b[32m━━━━━━━━━━━━━━━━━━━━\u001b[0m\u001b[37m\u001b[0m \u001b[1m3s\u001b[0m 61ms/step - accuracy: 0.9661 - loss: 0.2806\n"
          ]
        }
      ]
    },
    {
      "cell_type": "code",
      "source": [
        "input_text = \"cricket begin\"\n",
        "for i in range(6):\n",
        "    token_list = tokenizer.texts_to_sequences([input_text])[0]\n",
        "    token_list = tf.keras.preprocessing.sequence.pad_sequences([token_list], maxlen=max_length-1, padding='pre')\n",
        "    predicted = np.argmax(model.predict(token_list), axis=-1)\n",
        "    output_word = \"\"\n",
        "    for word, index in tokenizer.word_index.items():\n",
        "        if index == predicted:\n",
        "            output_word = word\n",
        "            break\n",
        "    input_text += \" \" + output_word\n",
        "\n",
        "print(input_text)"
      ],
      "metadata": {
        "colab": {
          "base_uri": "https://localhost:8080/"
        },
        "id": "SrfhBSjoD-HN",
        "outputId": "6b4732bb-9d76-43b3-854e-14e44faca062"
      },
      "execution_count": 23,
      "outputs": [
        {
          "output_type": "stream",
          "name": "stdout",
          "text": [
            "\u001b[1m1/1\u001b[0m \u001b[32m━━━━━━━━━━━━━━━━━━━━\u001b[0m\u001b[37m\u001b[0m \u001b[1m0s\u001b[0m 250ms/step\n",
            "\u001b[1m1/1\u001b[0m \u001b[32m━━━━━━━━━━━━━━━━━━━━\u001b[0m\u001b[37m\u001b[0m \u001b[1m0s\u001b[0m 73ms/step\n",
            "\u001b[1m1/1\u001b[0m \u001b[32m━━━━━━━━━━━━━━━━━━━━\u001b[0m\u001b[37m\u001b[0m \u001b[1m0s\u001b[0m 70ms/step\n",
            "\u001b[1m1/1\u001b[0m \u001b[32m━━━━━━━━━━━━━━━━━━━━\u001b[0m\u001b[37m\u001b[0m \u001b[1m0s\u001b[0m 67ms/step\n",
            "\u001b[1m1/1\u001b[0m \u001b[32m━━━━━━━━━━━━━━━━━━━━\u001b[0m\u001b[37m\u001b[0m \u001b[1m0s\u001b[0m 67ms/step\n",
            "\u001b[1m1/1\u001b[0m \u001b[32m━━━━━━━━━━━━━━━━━━━━\u001b[0m\u001b[37m\u001b[0m \u001b[1m0s\u001b[0m 98ms/step\n",
            "cricket begin the game continued to spread through\n"
          ]
        }
      ]
    }
  ]
}